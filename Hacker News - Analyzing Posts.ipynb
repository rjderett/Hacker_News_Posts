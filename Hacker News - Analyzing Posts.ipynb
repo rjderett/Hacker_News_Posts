{
 "cells": [
  {
   "cell_type": "markdown",
   "metadata": {},
   "source": [
    "# HACKER NEWS - Analyzing Ask and Show Posts "
   ]
  },
  {
   "cell_type": "markdown",
   "metadata": {},
   "source": [
    "Hackers News is a website operated by the startup incubator, Y Combinator. Users submit stories (posts) on to the website and these stories are voted and commented on. Hacker News is propular in technology and startup networks. The data set we are working with initially contained 300,000 rows but has since been reduced to 20,000 rows. The rows that were removed contained null values in the comment column or where not chosen in the random sampling. \n",
    "\n",
    "In the dataset, we are interested in posts whose titles begin with either Ask HN or Show HN. These are posts submitted to ask the community a specific question or show the community something, respectively. "
   ]
  },
  {
   "cell_type": "code",
   "execution_count": 61,
   "metadata": {},
   "outputs": [
    {
     "name": "stdout",
     "output_type": "stream",
     "text": [
      "['id', 'title', 'url', 'num_points', 'num_comments', 'author', 'created_at']\n",
      "\n",
      "\n",
      "['12579008', 'You have two days to comment if you want stem cells to be classified as your own', 'http://www.regulations.gov/document?D=FDA-2015-D-3719-0018', '1', '0', 'altstar', '9/26/2016 3:26']\n",
      "\n",
      "\n",
      "['12579005', 'SQLAR  the SQLite Archiver', 'https://www.sqlite.org/sqlar/doc/trunk/README.md', '1', '0', 'blacksqr', '9/26/2016 3:24']\n",
      "\n",
      "\n",
      "['12578997', 'What if we just printed a flatscreen television on the side of our boxes?', 'https://medium.com/vanmoof/our-secrets-out-f21c1f03fdc8#.ietxmez43', '1', '0', 'pavel_lishin', '9/26/2016 3:19']\n",
      "\n",
      "\n",
      "['12578989', 'algorithmic music', 'http://cacm.acm.org/magazines/2011/7/109891-algorithmic-composition/fulltext', '1', '0', 'poindontcare', '9/26/2016 3:16']\n"
     ]
    }
   ],
   "source": [
    "opened_file = open('HN_posts_year_to_Sep_26_2016.csv')\n",
    "from csv import reader \n",
    "read_file = reader(opened_file)\n",
    "HN = list(read_file)\n",
    "print(HN[0])\n",
    "print('\\n')\n",
    "print(HN[1])\n",
    "print('\\n')\n",
    "print(HN[2])\n",
    "print('\\n')\n",
    "print(HN[3])\n",
    "print('\\n')\n",
    "print(HN[4])"
   ]
  },
  {
   "cell_type": "markdown",
   "metadata": {},
   "source": [
    "# Cleaning the Data"
   ]
  },
  {
   "cell_type": "markdown",
   "metadata": {},
   "source": [
    "As a part of the next step, we will proceed to clean the data. In the next few lines of code, we can see that we have nearly 300,000 rows in the dataset. We will first want to separate the header row from the sample rows. Then, we will remove the rows that do not contain any comments. Following that, we will sample the first 20,000 rows in the dataset for use in our analysis."
   ]
  },
  {
   "cell_type": "code",
   "execution_count": 62,
   "metadata": {},
   "outputs": [
    {
     "name": "stdout",
     "output_type": "stream",
     "text": [
      "['id', 'title', 'url', 'num_points', 'num_comments', 'author', 'created_at']\n",
      "\n",
      "\n",
      "[['12579008', 'You have two days to comment if you want stem cells to be classified as your own', 'http://www.regulations.gov/document?D=FDA-2015-D-3719-0018', '1', '0', 'altstar', '9/26/2016 3:26'], ['12579005', 'SQLAR  the SQLite Archiver', 'https://www.sqlite.org/sqlar/doc/trunk/README.md', '1', '0', 'blacksqr', '9/26/2016 3:24'], ['12578997', 'What if we just printed a flatscreen television on the side of our boxes?', 'https://medium.com/vanmoof/our-secrets-out-f21c1f03fdc8#.ietxmez43', '1', '0', 'pavel_lishin', '9/26/2016 3:19'], ['12578989', 'algorithmic music', 'http://cacm.acm.org/magazines/2011/7/109891-algorithmic-composition/fulltext', '1', '0', 'poindontcare', '9/26/2016 3:16']]\n",
      "\n",
      "\n",
      "Number of rows:  293119\n"
     ]
    }
   ],
   "source": [
    "headers = HN[0] #Separate the header row\n",
    "HN = HN[1:] #Reassign the dataset without the header row\n",
    "print(headers)\n",
    "print('\\n')\n",
    "print(HN[0:4])\n",
    "print('\\n')\n",
    "print('Number of rows: ', len(HN))"
   ]
  },
  {
   "cell_type": "code",
   "execution_count": 63,
   "metadata": {},
   "outputs": [
    {
     "name": "stdout",
     "output_type": "stream",
     "text": [
      "[['12578975', 'Saving the Hassle of Shopping', 'https://blog.menswr.com/2016/09/07/whats-new-with-your-style-feed/', '1', '1', 'bdoux', '9/26/2016 3:13'], ['12578908', 'Ask HN: What TLD do you use for local development?', '', '4', '7', 'Sevrene', '9/26/2016 2:53'], ['12578822', 'Amazons Algorithms Dont Find You the Best Deals', 'https://www.technologyreview.com/s/602442/amazons-algorithms-dont-find-you-the-best-deals/', '1', '1', 'yarapavan', '9/26/2016 2:26'], ['12578694', 'Emergency dose of epinephrine that does not cost an arm and a leg', 'http://m.imgur.com/gallery/th6Ua', '2', '1', 'dredmorbius', '9/26/2016 1:54']]\n",
      "Count HN Refined:  80401\n"
     ]
    }
   ],
   "source": [
    "HN_refined = [] \n",
    "for row in HN: #for loop that will create a new list with only the rows that have at least one comment\n",
    "    comment = int(row[4])\n",
    "    if comment > 0:\n",
    "        HN_refined.append(row)\n",
    "print(HN_refined[:4])\n",
    "print('Count HN Refined: ', len(HN_refined))"
   ]
  },
  {
   "cell_type": "code",
   "execution_count": 64,
   "metadata": {},
   "outputs": [
    {
     "name": "stdout",
     "output_type": "stream",
     "text": [
      "Count HN Refined:  20000\n"
     ]
    }
   ],
   "source": [
    "HN_refined = HN_refined[0:20000] #Reassign the dataset to only contain the first 20,000 records\n",
    "print('Count HN Refined: ', len(HN_refined))"
   ]
  },
  {
   "cell_type": "code",
   "execution_count": 65,
   "metadata": {},
   "outputs": [
    {
     "name": "stdout",
     "output_type": "stream",
     "text": [
      "Count Ask Posts:  1987\n",
      "Count Show Posts:  1260\n",
      "Count Other Posts:  16753\n"
     ]
    }
   ],
   "source": [
    "ask_posts = [] \n",
    "show_posts = []\n",
    "other_posts = []\n",
    "for row in HN_refined: #this for loop will partition our dataset into three lists: ask posts, show posts, and others\n",
    "    title = row[1]\n",
    "    title = title.lower()\n",
    "    if title.startswith('ask hn'):\n",
    "        ask_posts.append(row)\n",
    "    elif title.startswith('show hn'):\n",
    "        show_posts.append(row)\n",
    "    else:\n",
    "        other_posts.append(title)\n",
    "print('Count Ask Posts: ', len(ask_posts))\n",
    "print('Count Show Posts: ', len(show_posts))\n",
    "print('Count Other Posts: ', len(other_posts))"
   ]
  },
  {
   "cell_type": "code",
   "execution_count": 66,
   "metadata": {},
   "outputs": [
    {
     "name": "stdout",
     "output_type": "stream",
     "text": [
      "['id', 'title', 'url', 'num_points', 'num_comments', 'author', 'created_at']\n",
      "\n",
      "\n",
      "[['12578908', 'Ask HN: What TLD do you use for local development?', '', '4', '7', 'Sevrene', '9/26/2016 2:53'], ['12578522', 'Ask HN: How do you pass on your work when you die?', '', '6', '3', 'PascLeRasc', '9/26/2016 1:17'], ['12577870', 'Ask HN: Why join a fund when you can be an angel?', '', '1', '3', 'anthony_james', '9/25/2016 22:48'], ['12577647', 'Ask HN: Someone uses stock trading as passive income?', '', '5', '2', '00taffe', '9/25/2016 21:50']]\n",
      "\n",
      "\n",
      "[['12577142', 'Show HN: Jumble  Essays on the go #PaulInYourPocket', 'https://itunes.apple.com/us/app/jumble-find-startup-essay/id1150939197?ls=1&mt=8', '1', '1', 'ryderj', '9/25/2016 20:06'], ['12576813', 'Show HN: Learn Japanese Vocab via multiple choice questions', 'http://japanese.vul.io/', '1', '1', 'soulchild37', '9/25/2016 19:06'], ['12576090', 'Show HN: Markov chain Twitter bot. Trained on comments left on Pornhub', 'https://twitter.com/botsonasty', '3', '1', 'keepingscore', '9/25/2016 16:50'], ['12575471', 'Show HN: Project-Okot: Novel, CODE-FREE data-apps in mere seconds', 'https://studio.nuchwezi.com/', '3', '1', 'nfixx', '9/25/2016 14:30']]\n"
     ]
    }
   ],
   "source": [
    "print(headers)\n",
    "print('\\n')\n",
    "print(ask_posts[:4])\n",
    "print('\\n')\n",
    "print(show_posts[:4])"
   ]
  },
  {
   "cell_type": "code",
   "execution_count": 67,
   "metadata": {},
   "outputs": [
    {
     "name": "stdout",
     "output_type": "stream",
     "text": [
      "16.52088575742325\n",
      "9.765079365079366\n"
     ]
    }
   ],
   "source": [
    "total_ask_comments = 0\n",
    "for row in ask_posts: #this for loop will count the number of comments in the ask posts\n",
    "    comments = int(row[4])\n",
    "    total_ask_comments += comments\n",
    "avg_ask_comments = total_ask_comments / len(ask_posts)\n",
    "print(avg_ask_comments) #display the average amount of comments in the ask posts\n",
    "\n",
    "total_show_comments = 0\n",
    "for row in show_posts: #this for loop will count the number of comments in the show posts\n",
    "    comments = int(row[4])\n",
    "    total_show_comments += comments\n",
    "avg_show_comments = total_show_comments / len(show_posts)\n",
    "print(avg_show_comments) #display the average amount of comments in the show posts\n",
    "    "
   ]
  },
  {
   "cell_type": "markdown",
   "metadata": {},
   "source": [
    "# Findings - Average Comment Count"
   ]
  },
  {
   "cell_type": "markdown",
   "metadata": {},
   "source": [
    "After conducting our analysis, we can see that the average number of comments in the Ask Posts (Average of 16.52 comments) is greater than the average number of comments in the Show Posts (Average of 9.76 comments). We will continue to use the Ask Posts only since it has a greater amount of comments on average."
   ]
  },
  {
   "cell_type": "code",
   "execution_count": 68,
   "metadata": {},
   "outputs": [],
   "source": [
    "import datetime as dt #import datetime module"
   ]
  },
  {
   "cell_type": "code",
   "execution_count": 73,
   "metadata": {},
   "outputs": [
    {
     "name": "stdout",
     "output_type": "stream",
     "text": [
      "Counts by Hour:  {'02': 61, '01': 70, '22': 67, '21': 121, '19': 107, '17': 130, '15': 140, '14': 116, '13': 102, '11': 86, '10': 76, '09': 53, '07': 57, '03': 48, '16': 105, '08': 67, '00': 57, '23': 77, '20': 113, '18': 121, '12': 101, '04': 42, '06': 54, '05': 40}\n",
      "\n",
      "\n",
      "Comments by Hour:  {'02': 606, '01': 497, '22': 852, '21': 1415, '19': 1442, '17': 2573, '15': 5136, '14': 1898, '13': 3326, '11': 1038, '10': 1215, '09': 673, '07': 902, '03': 818, '16': 980, '08': 1028, '00': 755, '23': 619, '20': 2343, '18': 1264, '12': 1707, '04': 907, '06': 509, '05': 517}\n"
     ]
    }
   ],
   "source": [
    "result_list = []\n",
    "for row in ask_posts: #iterate over ask_posts to create a new list containing the \"created at\" date and the number of comments\n",
    "    created_at = row[6]\n",
    "    comments = int(row[4])\n",
    "    result_list.append([created_at, comments])\n",
    "counts_by_hour = {} #create empty dictionary that will contain the number of ask posts created during each day\n",
    "comments_by_hour = {} # create empty dictionary that will contain the corresponding number of ask post comments created at each hour received\n",
    "for row in result_list: # iterate over result_list\n",
    "    comments = row[1]\n",
    "    date_dt = dt.datetime.strptime(row[0], '%m/%d/%Y %H:%M') #convert \"created at\" date to datetime format\n",
    "    hour = dt.datetime.strftime(date_dt, '%H') #extract hour from datetime as a string\n",
    "    if hour not in counts_by_hour: #append post and comment count by hour to each respective dictionary\n",
    "        counts_by_hour[hour] = 1\n",
    "        comments_by_hour[hour] = comments\n",
    "    if hour in counts_by_hour:\n",
    "        counts_by_hour[hour] += 1\n",
    "        comments_by_hour[hour] += comments\n",
    "print('Counts by Hour: ', counts_by_hour)\n",
    "print('\\n')\n",
    "print('Comments by Hour: ', comments_by_hour)\n"
   ]
  },
  {
   "cell_type": "code",
   "execution_count": 83,
   "metadata": {},
   "outputs": [],
   "source": [
    "avg_by_hour = []\n",
    "for hour in comments_by_hour: #Calculate the average number of comments per post for posts created during each hour\n",
    "    total_counts = counts_by_hour[hour]\n",
    "    total_comments = comments_by_hour[hour]\n",
    "    avg_by_hour.append([hour, round(total_comments / total_counts, 2)])"
   ]
  },
  {
   "cell_type": "code",
   "execution_count": 85,
   "metadata": {},
   "outputs": [
    {
     "name": "stdout",
     "output_type": "stream",
     "text": [
      "[['02', 9.93], ['01', 7.1], ['22', 12.72], ['21', 11.69], ['19', 13.48], ['17', 19.79], ['15', 36.69], ['14', 16.36], ['13', 32.61], ['11', 12.07], ['10', 15.99], ['09', 12.7], ['07', 15.82], ['03', 17.04], ['16', 9.33], ['08', 15.34], ['00', 13.25], ['23', 8.04], ['20', 20.73], ['18', 10.45], ['12', 16.9], ['04', 21.6], ['06', 9.43], ['05', 12.93]]\n",
      "\n",
      "\n",
      "24\n"
     ]
    }
   ],
   "source": [
    "print(avg_by_hour)\n",
    "print('\\n')\n",
    "print(len(avg_by_hour))"
   ]
  },
  {
   "cell_type": "code",
   "execution_count": 87,
   "metadata": {},
   "outputs": [
    {
     "name": "stdout",
     "output_type": "stream",
     "text": [
      "[[9.93, '02'], [7.1, '01'], [12.72, '22'], [11.69, '21'], [13.48, '19'], [19.79, '17'], [36.69, '15'], [16.36, '14'], [32.61, '13'], [12.07, '11'], [15.99, '10'], [12.7, '09'], [15.82, '07'], [17.04, '03'], [9.33, '16'], [15.34, '08'], [13.25, '00'], [8.04, '23'], [20.73, '20'], [10.45, '18'], [16.9, '12'], [21.6, '04'], [9.43, '06'], [12.93, '05']]\n"
     ]
    }
   ],
   "source": [
    "swap_avg_by_hour = [] #prep to sort the results\n",
    "for row in avg_by_hour:\n",
    "    swap_avg_by_hour.append([row[1], row[0]])\n",
    "print(swap_avg_by_hour)"
   ]
  },
  {
   "cell_type": "code",
   "execution_count": 88,
   "metadata": {},
   "outputs": [
    {
     "name": "stdout",
     "output_type": "stream",
     "text": [
      "[[36.69, '15'], [32.61, '13'], [21.6, '04'], [20.73, '20'], [19.79, '17'], [17.04, '03'], [16.9, '12'], [16.36, '14'], [15.99, '10'], [15.82, '07'], [15.34, '08'], [13.48, '19'], [13.25, '00'], [12.93, '05'], [12.72, '22'], [12.7, '09'], [12.07, '11'], [11.69, '21'], [10.45, '18'], [9.93, '02'], [9.43, '06'], [9.33, '16'], [8.04, '23'], [7.1, '01']]\n"
     ]
    }
   ],
   "source": [
    "sorted_swap = sorted(swap_avg_by_hour, reverse = True) #sort the results\n",
    "print(sorted_swap)"
   ]
  },
  {
   "cell_type": "code",
   "execution_count": 99,
   "metadata": {},
   "outputs": [
    {
     "name": "stdout",
     "output_type": "stream",
     "text": [
      "Top 5 Hours for Ask Posts Comments\n",
      "15:00: 36.69 average comments per post\n",
      "13:00: 32.61 average comments per post\n",
      "04:00: 21.6 average comments per post\n",
      "20:00: 20.73 average comments per post\n",
      "17:00: 19.79 average comments per post\n"
     ]
    }
   ],
   "source": [
    "print('Top 5 Hours for Ask Posts Comments')\n",
    "for row in sorted_swap[0:5]: #for loop to print the top 5 hours for Ask Posts comments\n",
    "    average = row[0]\n",
    "    hour_dt = dt.datetime.strptime(row[1], '%H')\n",
    "    hour = hour_dt.strftime('%H:%M')\n",
    "    output = \"{time}: {number} average comments per post\"\n",
    "    output = output.format(time = hour, number = average)\n",
    "    print(output)"
   ]
  },
  {
   "cell_type": "markdown",
   "metadata": {},
   "source": [
    "# Conclusion"
   ]
  },
  {
   "cell_type": "markdown",
   "metadata": {},
   "source": [
    "In conclusion, through our data analysis we have determined that 3PM, 1PM, 4AM, 8PM, and 5PM (All EST) are the best times to create a post to have a higher chance of receiving comments. Posts created during these hours receives anywhere from approximately 20 to 36 comments on average. "
   ]
  },
  {
   "cell_type": "code",
   "execution_count": null,
   "metadata": {},
   "outputs": [],
   "source": []
  }
 ],
 "metadata": {
  "kernelspec": {
   "display_name": "Python 3",
   "language": "python",
   "name": "python3"
  },
  "language_info": {
   "codemirror_mode": {
    "name": "ipython",
    "version": 3
   },
   "file_extension": ".py",
   "mimetype": "text/x-python",
   "name": "python",
   "nbconvert_exporter": "python",
   "pygments_lexer": "ipython3",
   "version": "3.8.3"
  }
 },
 "nbformat": 4,
 "nbformat_minor": 4
}
